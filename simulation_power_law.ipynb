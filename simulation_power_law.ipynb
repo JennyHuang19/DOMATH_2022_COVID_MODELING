{
 "cells": [
  {
   "cell_type": "code",
   "execution_count": 3,
   "metadata": {},
   "outputs": [
    {
     "name": "stderr",
     "output_type": "stream",
     "text": [
      "No handles with labels found to put in legend.\n"
     ]
    },
    {
     "name": "stdout",
     "output_type": "stream",
     "text": [
      "[10.99887742  2.95656689  2.1423263   3.59688576  1.18803215  1.27222009\n",
      "  8.6228275   3.24325899  6.6376825   1.42863284  1.47048336  1.06497431\n",
      "  4.05028047  1.90748963  1.22347142  1.16860657  2.95048003  4.52617124\n",
      "  1.39377904  2.43066005]\n",
      "inf\n"
     ]
    },
    {
     "data": {
      "image/png": "[encoded data removed]",
      "text/plain": [
       "<Figure size 432x288 with 1 Axes>"
      ]
     },
     "metadata": {
      "needs_background": "light"
     },
     "output_type": "display_data"
    }
   ],
   "source": [
    "# Power law distribution ( the pareto distribution)\n",
    "from scipy.stats import pareto\n",
    "import math\n",
    "import numpy as np\n",
    "import random\n",
    "import matplotlib.pyplot as plt\n",
    "import PIL\n",
    "\n",
    "fig, ax = plt.subplots(1, 1)\n",
    "b = 1\n",
    "r = pareto.rvs(b, size=20)\n",
    "\n",
    "print(r) # vector of quantities\n",
    "print(pareto.mean(b, loc=0, scale=1)) # mean\n",
    "\n",
    "ax.hist(r, density=True, histtype='stepfilled', alpha=0.2)\n",
    "ax.legend(loc='best', frameon=False)\n",
    "plt.show()"
   ]
  },
  {
   "cell_type": "code",
   "execution_count": null,
   "metadata": {},
   "outputs": [],
   "source": [
    "# Homogeneously mixing: Uniform NxN\n",
    "# compare the \n",
    "\n",
    "# what power is when a transition to homogeneously mixing occurs?\n",
    "\n",
    "# (rcos(theta), rsin(theta)), r sim pareto, theta sim uniform\n"
   ]
  },
  {
   "cell_type": "code",
   "execution_count": 4,
   "metadata": {},
   "outputs": [
    {
     "data": {
      "text/plain": [
       "20"
      ]
     },
     "execution_count": 4,
     "metadata": {},
     "output_type": "execute_result"
    }
   ],
   "source": [
    "math.ceil(pareto.rvs(b=0.5, size=1)[0])"
   ]
  },
  {
   "cell_type": "code",
   "execution_count": 14,
   "metadata": {},
   "outputs": [],
   "source": [
    "class Individual:\n",
    "    \n",
    "    \n",
    "    \"\"\"\n",
    "    Individuals (Ind) Class\n",
    "    Class Attributes:\n",
    "    state: str, 'S', 'I', or 'R'\n",
    "    locX: int, x-coordinate location\n",
    "    locY: int, y-coordinate location\n",
    "    neigh: list of pointers to its neighbors within distance L\n",
    "    \"\"\"\n",
    "    \n",
    "    \"\"\"\n",
    "    Class Attributes:\n",
    "    state: str, 'S', 'I', or 'R'\n",
    "    locX: int, x-coordinate location\n",
    "    locY: int, y-coordinate location\n",
    "    \"\"\"\n",
    "    \n",
    "    def __init__(self, locX, locY):\n",
    "        # first placed on grid as S\n",
    "        self.state = 'S'\n",
    "        self.locX = locX\n",
    "        self.locY = locY\n",
    "\n",
    "    \n",
    "\"\"\"\n",
    "long_range(N, L, beta, gamma, timestep, initInfected)\n",
    "simulate spreading behavior\n",
    "INPUTS: int N, int L, float beta, float gamma, int timestep, int initInfected\n",
    "\"\"\"\n",
    "\n",
    "def long_range2(N, L, beta, gamma, initInfected, t, a):\n",
    "    # a = power law rate.\n",
    "    # initialize population\n",
    "    # indexed s.t. pop[i][j] is individual with locX = i and locY = j\n",
    "    pop = [[Individual(i,j) for i in range(N)] for j in range(N)]\n",
    "    grid = PIL.Image.new(mode='RGB', size=(225,225), color=(0, 255, 0))\n",
    "    pixels = grid.load()\n",
    "    \n",
    "    \n",
    "    # preallocate lists\n",
    "    # infected: list of pointers to infected individuals\n",
    "    infected = []\n",
    "    # numinfected: used to track # of infected at each timestep\n",
    "    numInfected = []\n",
    "    \n",
    "    \"\"\"\n",
    "    # choose random starting infection site and # of initial infections\n",
    "    for k in range(initInfected):\n",
    "        xInit = random.randint(0, N-1)\n",
    "        yInit = random.randint(0, N-1)\n",
    "        pop[xInit][yInit].state = 'I'\n",
    "        infected.append(pop[xInit][yInit])\n",
    "        pixels[xInit, yInit] = (255,0,0)\n",
    "    \n",
    "    \"\"\"\n",
    "    # or pick a starting infection site\n",
    "    xInit = 112\n",
    "    yInit = 112\n",
    "    pop[xInit][yInit].state = 'I'\n",
    "    infected.append(pop[xInit][yInit])\n",
    "    pixels[xInit, yInit] = (255,0,0)\n",
    "    \n",
    "    \n",
    "    # set numInfected[0] as initInfected\n",
    "    numInfected.append(initInfected)\n",
    "    grid.save('initGrid.jpg')\n",
    "    \n",
    "    # run spreading simulation for t timesteps\n",
    "    # or run simulation until no more infected individuals remain\n",
    "    timestep = 0\n",
    "    for t in range(t):\n",
    "    #while len(infected) != 0:\n",
    "        timestep = timestep + 1\n",
    "        # for each timestep, track new infections and recoveries \n",
    "        # using list recovered newInfected\n",
    "        recovered = []\n",
    "        newInfected = []\n",
    "        # for each infected individual\n",
    "        for i in range(len(infected)):\n",
    "            \n",
    "            # infect or recover at given probabilities\n",
    "            s = random.uniform(0, beta + gamma)\n",
    "            \n",
    "            # infect\n",
    "            if s >= gamma:\n",
    "                \n",
    "                # randomly choosing a neighbor somewhere in the population using a power law distribution.\n",
    "        \n",
    "                # choose to go L or R.\n",
    "                leftright = random.randint(0, 1)\n",
    "                if leftright == 0: # go left\n",
    "                    xRand = infected[i].locX - math.ceil(pareto.rvs(a, size=1)[0]) # find another way to generate a rv that follows a power law. \n",
    "                else: # go right\n",
    "                    xRand = infected[i].locX + math.ceil(pareto.rvs(a, size=1)[0])\n",
    "                \n",
    "                # choose to go up or down.\n",
    "                updown = random.randint(0, 1)\n",
    "                if updown == 0: # go up\n",
    "                    yRand = infected[i].locY + math.ceil(pareto.rvs(a, size=1)[0])\n",
    "                else: # go down\n",
    "                    yRand = infected[i].locY - math.ceil(pareto.rvs(a, size=1)[0])\n",
    "                      \n",
    "                # mod NxN (list indexed from 0 to N-1)\n",
    "                if xRand > N-1:\n",
    "                    tempX = xRand % (N-1)\n",
    "                    xRand = tempX\n",
    "                    \n",
    "                if yRand > N-1:\n",
    "                    tempY = yRand % (N-1)\n",
    "                    yRand = tempY\n",
    "                    \n",
    "                if xRand < 0:\n",
    "                    tempX = -xRand % (N-1)\n",
    "                    xRand = -tempX\n",
    "                    \n",
    "                if yRand < 0:\n",
    "                    tempY = -yRand % (N-1)\n",
    "                    yRand = -tempY\n",
    "                \n",
    "                # if chosen neighbor is S, then infect and add to \n",
    "                # list of infected\n",
    "                if pop[xRand][yRand].state == 'S':\n",
    "                    pop[xRand][yRand].state = 'I'\n",
    "                    newInfected.append(pop[xRand][yRand])\n",
    "                    \n",
    "                   \n",
    "                # remove\n",
    "                #elif s < gamma:\n",
    "                #    infected[i].state = 'R'\n",
    "                #    recovered.append(infected[i])\n",
    "\n",
    "                # SIS model, return to S\n",
    "                elif s < gamma:\n",
    "                    infected[i].state = 'S'\n",
    "                    recovered.append(infected[i])\n",
    "\n",
    "        for i in recovered:\n",
    "            pixels[i.locX, i.locY] = (0,0,0)\n",
    "        # after infecting/removing\n",
    "        updateInfected = []\n",
    "        \n",
    "        for j in range(len(infected)):\n",
    "            if infected[j].state == 'I':\n",
    "                updateInfected.append(infected[j])\n",
    "                    \n",
    "    \n",
    "        # append new infections from timestep to list infected\n",
    "        infected = updateInfected + newInfected\n",
    "        for i in infected:\n",
    "            pixels[i.locX, i.locY] = (255,0,0)\n",
    "        \n",
    "        # append total number of infecteds to numInfected\n",
    "        numInfected.append(len(infected))\n",
    "        \n",
    "        if timestep <= 50 and timestep % 5 == 0:\n",
    "            grid.save(f'timestep{timestep}.jpg')\n",
    "            print(len(infected))\n",
    "        \n",
    "    \n",
    "    grid.save('finalGrid.jpg')\n",
    "        \n",
    "    return (numInfected)"
   ]
  },
  {
   "cell_type": "code",
   "execution_count": 15,
   "metadata": {},
   "outputs": [
    {
     "name": "stdout",
     "output_type": "stream",
     "text": [
      "19\n",
      "287\n",
      "3925\n",
      "29850\n"
     ]
    },
    {
     "ename": "KeyboardInterrupt",
     "evalue": "",
     "output_type": "error",
     "traceback": [
      "\u001b[0;31m---------------------------------------------------------------------------\u001b[0m",
      "\u001b[0;31mKeyboardInterrupt\u001b[0m                         Traceback (most recent call last)",
      "\u001b[0;32m<ipython-input-15-de746d7b6232>\u001b[0m in \u001b[0;36m<module>\u001b[0;34m\u001b[0m\n\u001b[1;32m     10\u001b[0m     \u001b[0minitInfected\u001b[0m \u001b[0;34m=\u001b[0m \u001b[0;36m1\u001b[0m\u001b[0;34m\u001b[0m\u001b[0;34m\u001b[0m\u001b[0m\n\u001b[1;32m     11\u001b[0m     \u001b[0;31m#for i in range(len(beta)):\u001b[0m\u001b[0;34m\u001b[0m\u001b[0;34m\u001b[0m\u001b[0;34m\u001b[0m\u001b[0m\n\u001b[0;32m---> 12\u001b[0;31m     \u001b[0minfections\u001b[0m \u001b[0;34m=\u001b[0m \u001b[0mlong_range2\u001b[0m\u001b[0;34m(\u001b[0m\u001b[0mN\u001b[0m\u001b[0;34m,\u001b[0m \u001b[0mL\u001b[0m\u001b[0;34m,\u001b[0m \u001b[0mbeta\u001b[0m\u001b[0;34m,\u001b[0m \u001b[0mgamma\u001b[0m\u001b[0;34m,\u001b[0m \u001b[0minitInfected\u001b[0m\u001b[0;34m,\u001b[0m \u001b[0mt\u001b[0m\u001b[0;34m,\u001b[0m \u001b[0malpha\u001b[0m\u001b[0;34m)\u001b[0m\u001b[0;34m\u001b[0m\u001b[0;34m\u001b[0m\u001b[0m\n\u001b[0m\u001b[1;32m     13\u001b[0m \u001b[0;34m\u001b[0m\u001b[0m\n\u001b[1;32m     14\u001b[0m     \u001b[0mplt\u001b[0m\u001b[0;34m.\u001b[0m\u001b[0mfigure\u001b[0m\u001b[0;34m(\u001b[0m\u001b[0;34m)\u001b[0m\u001b[0;34m\u001b[0m\u001b[0;34m\u001b[0m\u001b[0m\n",
      "\u001b[0;32m<ipython-input-14-b0e2e85a569d>\u001b[0m in \u001b[0;36mlong_range2\u001b[0;34m(N, L, beta, gamma, initInfected, t, a)\u001b[0m\n\u001b[1;32m     99\u001b[0m                 \u001b[0mupdown\u001b[0m \u001b[0;34m=\u001b[0m \u001b[0mrandom\u001b[0m\u001b[0;34m.\u001b[0m\u001b[0mrandint\u001b[0m\u001b[0;34m(\u001b[0m\u001b[0;36m0\u001b[0m\u001b[0;34m,\u001b[0m \u001b[0;36m1\u001b[0m\u001b[0;34m)\u001b[0m\u001b[0;34m\u001b[0m\u001b[0;34m\u001b[0m\u001b[0m\n\u001b[1;32m    100\u001b[0m                 \u001b[0;32mif\u001b[0m \u001b[0mupdown\u001b[0m \u001b[0;34m==\u001b[0m \u001b[0;36m0\u001b[0m\u001b[0;34m:\u001b[0m \u001b[0;31m# go up\u001b[0m\u001b[0;34m\u001b[0m\u001b[0;34m\u001b[0m\u001b[0m\n\u001b[0;32m--> 101\u001b[0;31m                     \u001b[0myRand\u001b[0m \u001b[0;34m=\u001b[0m \u001b[0minfected\u001b[0m\u001b[0;34m[\u001b[0m\u001b[0mi\u001b[0m\u001b[0;34m]\u001b[0m\u001b[0;34m.\u001b[0m\u001b[0mlocY\u001b[0m \u001b[0;34m+\u001b[0m \u001b[0mmath\u001b[0m\u001b[0;34m.\u001b[0m\u001b[0mceil\u001b[0m\u001b[0;34m(\u001b[0m\u001b[0mpareto\u001b[0m\u001b[0;34m.\u001b[0m\u001b[0mrvs\u001b[0m\u001b[0;34m(\u001b[0m\u001b[0ma\u001b[0m\u001b[0;34m,\u001b[0m \u001b[0msize\u001b[0m\u001b[0;34m=\u001b[0m\u001b[0;36m1\u001b[0m\u001b[0;34m)\u001b[0m\u001b[0;34m[\u001b[0m\u001b[0;36m0\u001b[0m\u001b[0;34m]\u001b[0m\u001b[0;34m)\u001b[0m\u001b[0;34m\u001b[0m\u001b[0;34m\u001b[0m\u001b[0m\n\u001b[0m\u001b[1;32m    102\u001b[0m                 \u001b[0;32melse\u001b[0m\u001b[0;34m:\u001b[0m \u001b[0;31m# go down\u001b[0m\u001b[0;34m\u001b[0m\u001b[0;34m\u001b[0m\u001b[0m\n\u001b[1;32m    103\u001b[0m                     \u001b[0myRand\u001b[0m \u001b[0;34m=\u001b[0m \u001b[0minfected\u001b[0m\u001b[0;34m[\u001b[0m\u001b[0mi\u001b[0m\u001b[0;34m]\u001b[0m\u001b[0;34m.\u001b[0m\u001b[0mlocY\u001b[0m \u001b[0;34m-\u001b[0m \u001b[0mmath\u001b[0m\u001b[0;34m.\u001b[0m\u001b[0mceil\u001b[0m\u001b[0;34m(\u001b[0m\u001b[0mpareto\u001b[0m\u001b[0;34m.\u001b[0m\u001b[0mrvs\u001b[0m\u001b[0;34m(\u001b[0m\u001b[0ma\u001b[0m\u001b[0;34m,\u001b[0m \u001b[0msize\u001b[0m\u001b[0;34m=\u001b[0m\u001b[0;36m1\u001b[0m\u001b[0;34m)\u001b[0m\u001b[0;34m[\u001b[0m\u001b[0;36m0\u001b[0m\u001b[0;34m]\u001b[0m\u001b[0;34m)\u001b[0m\u001b[0;34m\u001b[0m\u001b[0;34m\u001b[0m\u001b[0m\n",
      "\u001b[0;31mKeyboardInterrupt\u001b[0m: "
     ]
    }
   ],
   "source": [
    "if __name__ == \"__main__\":\n",
    "    N = 225 # \n",
    "    L = 15\n",
    "    beta = 2.5\n",
    "    gamma = 1\n",
    "    t = 100\n",
    "    alpha = 1/3 # power law rate\n",
    "    # if choosing a specific starting infection site, chose initInfected that\n",
    "    # is a square; 9, 16, 25, etc.\n",
    "    initInfected = 1\n",
    "    #for i in range(len(beta)):\n",
    "    infections = long_range2(N, L, beta, gamma, initInfected, t, alpha)\n",
    "    \n",
    "    plt.figure()\n",
    "    fig, ax = plt.subplots()\n",
    "    ax.plot(infections, label='I')\n",
    "    ax.legend(loc='upper right')\n",
    "    plt.title('Long Range # Infected per Timestep')\n",
    "    plt.xlabel('Timesteps')\n",
    "    plt.ylabel('# of Infected Individuals')       \n",
    "    plt.savefig('long_range.png', bbox_inches='tight')\n",
    "    plt.close('all')"
   ]
  },
  {
   "cell_type": "code",
   "execution_count": null,
   "metadata": {},
   "outputs": [],
   "source": [
    "# 1/4 looks like homogeneously mixing case\n",
    "# 1/2 slight localization\n",
    "# 1 very localized spread."
   ]
  },
  {
   "cell_type": "code",
   "execution_count": null,
   "metadata": {},
   "outputs": [],
   "source": []
  }
 ],
 "metadata": {
  "kernelspec": {
   "display_name": "Python 3",
   "language": "python",
   "name": "python3"
  },
  "language_info": {
   "codemirror_mode": {
    "name": "ipython",
    "version": 3
   },
   "file_extension": ".py",
   "mimetype": "text/x-python",
   "name": "python",
   "nbconvert_exporter": "python",
   "pygments_lexer": "ipython3",
   "version": "3.8.5"
  }
 },
 "nbformat": 4,
 "nbformat_minor": 4
}
